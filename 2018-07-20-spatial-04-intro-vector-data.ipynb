{
 "cells": [
  {
   "cell_type": "raw",
   "metadata": {},
   "source": [
    "---\n",
    "layout: single\n",
    "category: [courses]\n",
    "title: \"GIS in Python: Introduction to Vector Format Spatial Data - Points, Lines and Polygons\"\n",
    "excerpt: \"This lesson introduces what vector data are and how to open vector data stored in shapefile format in Python.\"\n",
    "authors: ['Leah Wasser', 'Joe McGlinchy', 'Chris Holdgraf', 'Martha Morrissey']\n",
    "modified: '{:%Y-%m-%d}'.format(datetime.now())\n",
    "permalink: /workshops/gis-open-source-python/intro-vector-data-python/\n",
    "nav-title: 'Vector Data in Python'\n",
    "module-type: 'workshop'\n",
    "module: \"spatial-data-open-source-python\"\n",
    "sidebar:\n",
    "  nav:\n",
    "author_profile: false\n",
    "comments: true\n",
    "order: 4\n",
    "---\n"
   ]
  },
  {
   "cell_type": "markdown",
   "metadata": {},
   "source": [
    "{% include toc title=\"In This Lesson\" icon=\"file-text\" %}\n",
    "\n",
    "<div class='notice--success' markdown=\"1\">\n",
    "\n",
    "## <i class=\"fa fa-graduation-cap\" aria-hidden=\"true\"></i> Learning Objectives\n",
    "\n",
    "After completing this tutorial, you will be able to:\n",
    "\n",
    "* describe the characteristics of 3 key vector data structures: points, lines and polygons.\n",
    "* open a shapefile in `Python` using `geopandas` - `gpd.read_file`.\n",
    "* view the `CRS` and other spatial metadata of a vector spatial layer in `Python`\n",
    "* access and view the attributes of a vector spatial layer in `Python`.\n",
    "\n",
    "\n",
    "## <i class=\"fa fa-check-square-o fa-2\" aria-hidden=\"true\"></i> What You Need\n",
    "\n",
    "You will need a computer with internet access to complete this lesson and the\n",
    "spatial-vector-lidar data subset created for the course.\n",
    "\n",
    "[<i class=\"fa fa-download\" aria-hidden=\"true\"></i> Download spatial-vector-lidar data subset (~172 MB)](https://ndownloader.figshare.com/files/12459464){:data-proofer-ignore='' .btn }\n",
    "\n",
    "</div>\n",
    "\n",
    "## About Vector Data\n",
    "\n",
    "Vector data are composed of discrete geometric locations (x, y values) known as **vertices** that define the \"shape\" of the spatial object. The organization of the vertices determines the type of vector that you are working \n",
    "with. There are three types of vector data: \n",
    "\n",
    "* **Points:** Each individual point is defined by a single x, y coordinate. There can be many points in a vector point file. Examples of point data include: sampling locations, the location of individual trees or the location of plots.\n",
    "\n",
    "* **Lines:** Lines are composed of many (at least 2) vertices, or points, that are connected. For instance, a road or a stream may be represented by a line. This line is composed of a series of segments, each \"bend\" in the road or stream represents a vertex that has defined `x, y` location.\n",
    "\n",
    "* **Polygons:** A polygon consists of 3 or more vertices that are connected and \"closed\". Thus the outlines of plot boundaries, lakes, oceans, and states or countries are often represented by polygons. Occasionally, a polygon can have a hole in the middle of it (like a doughnut), this is something to be aware of but not an issue you will deal with in this tutorial.\n",
    "\n",
    "\n",
    "<figure>\n",
    "    <a href=\"{{ site.baseurl }}/images/courses/earth-analytics/spatial-data/points-lines-polygons-vector-data-types.png\">\n",
    "    <img src=\"{{ site.baseurl }}/images/courses/earth-analytics/spatial-data/points-lines-polygons-vector-data-types.png\" alt=\"points lines and polygons graphic.\"></a>\n",
    "    <figcaption> There are 3 types of vector objects: points, lines or polygons. Each object type has a different structure. Image Source: Colin Williams (NEON)\n",
    "    </figcaption>\n",
    "</figure>\n",
    "\n",
    "\n",
    "<i class=\"fa fa-star\"></i> **Data Tip:** Sometimes, boundary layers such as states and countries, are stored as lines rather than polygons. However, these boundaries, when represented as a line, will not create a closed object with a defined \"area\" that can be \"filled\".\n",
    "{: .notice--warning }\n",
    "\n",
    "\n",
    "## Shapefiles: Points, Lines, and Polygons\n",
    "Geospatial data in vector format are often stored in a `shapefile` format. Because the structure of points, lines, and polygons are different, each individual shapefile can only contain one vector type (all points, all lines \n",
    "or all polygons). You will not find a mixture of point, line and polygon objects in a single shapefile.\n",
    "\n",
    "Objects stored in a shapefile often have a set of associated `attributes` that describe the data. For example, a line shapefile that contains the locations of streams, might contain the associated stream name, stream \"order\" and other \n",
    "information about each stream line object.\n",
    "\n",
    "* More about shapefiles can found on <a href=\"https://en.wikipedia.org/wiki/Shapefile\" target=\"_blank\">Wikipedia</a>.\n",
    "\n",
    "## One Dataset - Many Files\n",
    "\n",
    "While text files often are self contained (one CSV) is composed of one unique file, many spatial formats are composed of several files. A shapefile is created by 3 or more files, all of which must retain the same NAME and be\n",
    "stored in the same file directory, in order for you to be able to work with them.\n",
    "\n",
    "### Shapefile Structure\n",
    "\n",
    "There are 3 key files associated with any and all shapefiles:\n",
    "\n",
    "* **`.shp`:** the file that contains the geometry for all features.\n",
    "* **`.shx`:** the file that indexes the geometry.\n",
    "* **`.dbf`:** the file that stores feature attributes in a tabular format.\n",
    "\n",
    "These files need to have the **same name** and to be stored in the same directory (folder) to open properly in a GIS, `R` or `Python` tool.\n",
    "\n",
    "Sometimes, a shapefile will have other associated files including:\n",
    "\n",
    "* `.prj`: the file that contains information on projection format including\n",
    "the coordinate system and projection information. It is a plain text file\n",
    "describing the projection using well-known text (WKT) format.\n",
    "* `.sbn` and `.sbx`: the files that are a spatial index of the features.\n",
    "* `.shp.xml`: the file that is the geospatial metadata in XML format, (e.g. ISO 19115 or XML format).\n",
    "\n",
    "## Data Management - Sharing Shapefiles\n",
    "\n",
    "When you work with a shapefile, you must keep all of the key associated file types together. And when you share a shapefile with a colleague, it is important to zip up all of these files into one package before you send it to\n",
    "them!\n",
    "\n",
    "## Import Shapefiles\n",
    "You will use the `geopandas` library to work with vector data in `Python`. You will also use `matplotlib.pyplot` to plot your data. "
   ]
  },
  {
   "cell_type": "code",
   "execution_count": 26,
   "metadata": {},
   "outputs": [],
   "source": [
    "import geopandas as gpd\n",
    "import matplotlib.pyplot as plt\n",
    "import os\n",
    "import earthpy as et\n",
    "import os \n",
    "# plot data inline\n",
    "plt.ion() \n",
    "# set working directory\n",
    "os.chdir(os.path.join(et.io.HOME, 'earth-analytics'))"
   ]
  },
  {
   "cell_type": "markdown",
   "metadata": {},
   "source": [
    "The shapefiles that you will import are:\n",
    "\n",
    "* A polygon shapefile representing our field site boundary,\n",
    "* A line shapefile representing roads, and\n",
    "* A point shapefile representing the location of field sites at the <a href=\"http://www.neonscience.org/science-design/field-sites/harvard-forest\" target=\"_blank\"> San Joachin field site</a>.\n",
    "\n",
    "The first shapefile that you will open contains the point locations of plots where trees have been measured. To import shapefiles you use the `geopandas` function `read_file()`. Notice that you call the `read_file()` function using `gpd.read_file()` to tell python to look for the function within the `geopandas` library.\n"
   ]
  },
  {
   "cell_type": "code",
   "execution_count": 27,
   "metadata": {},
   "outputs": [],
   "source": [
    "# import shapefile using geopandas\n",
    "sjer_plot_locations = gpd.read_file('data/spatial-vector-lidar/california/neon-sjer-site/vector_data/SJER_plot_centroids.shp')"
   ]
  },
  {
   "cell_type": "markdown",
   "metadata": {},
   "source": [
    "The CRS **UTM zone 18N**. The CRS is critical to interpreting the object `extent` values as it specifies units.\n",
    "\n",
    "## Spatial Data Attributes\n",
    "\n",
    "Each object in a shapefile has one or more attributes associated with it.\n",
    "Shapefile attributes are similar to fields or columns in a spreadsheet. Each row\n",
    "in the spreadsheet has a set of columns associated with it that describe the row\n",
    "element. In the case of a shapefile, each row represents a spatial object - for\n",
    "example, a road, represented as a line in a line shapefile, will have one \"row\"\n",
    "of attributes associated with it. These attributes can include different types\n",
    "of information that describe objects stored within a shapefile. Thus, our road,\n",
    "may have a name, length, number of lanes, speed limit, type of road and other\n",
    "attributes stored with it.\n",
    "\n",
    "<figure>\n",
    "    <a href=\"{{ site.baseurl }}/images/courses/earth-analytics/spatial-data/spatial-attribute-tables.png\">\n",
    "    <img src=\"{{ site.baseurl }}/images/courses/earth-analytics/spatial-data/spatial-attribute-tables.png\" alt=\"A shapefile has an associated attribute table. Each spatial feature in an R spatial object has the same set of\n",
    "    associated attributes that describe or characterize the feature.\n",
    "    Attribute data are stored in a separate *.dbf file. \"></a>\n",
    "    <figcaption>Each spatial feature in an R spatial object has the same set of\n",
    "    associated attributes that describe or characterize the feature.\n",
    "    Attribute data are stored in a separate *.dbf file. Attribute data can be\n",
    "    compared to a spreadsheet. Each row in a spreadsheet represents one feature\n",
    "    in the spatial object.\n",
    "    Image Source: National Ecological Observatory Network (NEON)\n",
    "    </figcaption>\n",
    "</figure>\n",
    "\n",
    "You can view the attribute table associated with our geopandas `GeoDataFrame` by simply typing the object name into the console\n",
    "(e.g., `sjer_plot_locations`).\n",
    "\n",
    "Her you've used the `.head(3)` function to only display the first 3 rows of the attribute table. Remember that the number in the `.head()` function represents the total number of rows that will be returned by the function. \n"
   ]
  },
  {
   "cell_type": "code",
   "execution_count": 28,
   "metadata": {},
   "outputs": [
    {
     "data": {
      "text/html": [
       "<div>\n",
       "<style scoped>\n",
       "    .dataframe tbody tr th:only-of-type {\n",
       "        vertical-align: middle;\n",
       "    }\n",
       "\n",
       "    .dataframe tbody tr th {\n",
       "        vertical-align: top;\n",
       "    }\n",
       "\n",
       "    .dataframe thead th {\n",
       "        text-align: right;\n",
       "    }\n",
       "</style>\n",
       "<table border=\"1\" class=\"dataframe\">\n",
       "  <thead>\n",
       "    <tr style=\"text-align: right;\">\n",
       "      <th></th>\n",
       "      <th>Plot_ID</th>\n",
       "      <th>Point</th>\n",
       "      <th>northing</th>\n",
       "      <th>easting</th>\n",
       "      <th>plot_type</th>\n",
       "      <th>geometry</th>\n",
       "    </tr>\n",
       "  </thead>\n",
       "  <tbody>\n",
       "    <tr>\n",
       "      <th>0</th>\n",
       "      <td>SJER1068</td>\n",
       "      <td>center</td>\n",
       "      <td>4111567.818</td>\n",
       "      <td>255852.376</td>\n",
       "      <td>trees</td>\n",
       "      <td>POINT (255852.376 4111567.818)</td>\n",
       "    </tr>\n",
       "    <tr>\n",
       "      <th>1</th>\n",
       "      <td>SJER112</td>\n",
       "      <td>center</td>\n",
       "      <td>4111298.971</td>\n",
       "      <td>257406.967</td>\n",
       "      <td>trees</td>\n",
       "      <td>POINT (257406.967 4111298.971)</td>\n",
       "    </tr>\n",
       "    <tr>\n",
       "      <th>2</th>\n",
       "      <td>SJER116</td>\n",
       "      <td>center</td>\n",
       "      <td>4110819.876</td>\n",
       "      <td>256838.760</td>\n",
       "      <td>grass</td>\n",
       "      <td>POINT (256838.76 4110819.876)</td>\n",
       "    </tr>\n",
       "    <tr>\n",
       "      <th>3</th>\n",
       "      <td>SJER117</td>\n",
       "      <td>center</td>\n",
       "      <td>4108752.026</td>\n",
       "      <td>256176.947</td>\n",
       "      <td>trees</td>\n",
       "      <td>POINT (256176.947 4108752.026)</td>\n",
       "    </tr>\n",
       "    <tr>\n",
       "      <th>4</th>\n",
       "      <td>SJER120</td>\n",
       "      <td>center</td>\n",
       "      <td>4110476.079</td>\n",
       "      <td>255968.372</td>\n",
       "      <td>grass</td>\n",
       "      <td>POINT (255968.372 4110476.079)</td>\n",
       "    </tr>\n",
       "    <tr>\n",
       "      <th>5</th>\n",
       "      <td>SJER128</td>\n",
       "      <td>center</td>\n",
       "      <td>4111388.570</td>\n",
       "      <td>257078.867</td>\n",
       "      <td>trees</td>\n",
       "      <td>POINT (257078.867 4111388.57)</td>\n",
       "    </tr>\n",
       "  </tbody>\n",
       "</table>\n",
       "</div>"
      ],
      "text/plain": [
       "    Plot_ID   Point     northing     easting plot_type  \\\n",
       "0  SJER1068  center  4111567.818  255852.376     trees   \n",
       "1   SJER112  center  4111298.971  257406.967     trees   \n",
       "2   SJER116  center  4110819.876  256838.760     grass   \n",
       "3   SJER117  center  4108752.026  256176.947     trees   \n",
       "4   SJER120  center  4110476.079  255968.372     grass   \n",
       "5   SJER128  center  4111388.570  257078.867     trees   \n",
       "\n",
       "                         geometry  \n",
       "0  POINT (255852.376 4111567.818)  \n",
       "1  POINT (257406.967 4111298.971)  \n",
       "2   POINT (256838.76 4110819.876)  \n",
       "3  POINT (256176.947 4108752.026)  \n",
       "4  POINT (255968.372 4110476.079)  \n",
       "5   POINT (257078.867 4111388.57)  "
      ]
     },
     "execution_count": 28,
     "metadata": {},
     "output_type": "execute_result"
    }
   ],
   "source": [
    "# view  the top 6 lines of attribute table of data\n",
    "sjer_plot_locations.head(6)"
   ]
  },
  {
   "cell_type": "markdown",
   "metadata": {},
   "source": [
    "In this case, you have several attributes associated with our points including:\n",
    "\n",
    "* Plot_ID, Point, easting, geometry, northing, plot_type \n",
    "\n",
    "<i class=\"fa fa-star\"></i> **Data Tip:** The acronym, OGR, refers to the OpenGIS Simple Features Reference Implementation. <a href=\"https://trac.osgeo.org/gdal/wiki/FAQGeneral\" target=\"_blank\"> Learn more about OGR.</a>\n",
    "{: .notice--warning }\n",
    "\n",
    "\n",
    "### The Geopandas Data Structure\n",
    "\n",
    "Notice that the geopandas data structure is a `data.frame` that contains a `geometry` column where the x, y point location values are stored. All of the other shapefile feature attributes are contained in columns, similar to what you may be used to if you've used a GIS tool such as ArcGIS or QGIS.\n",
    "\n",
    "## Shapefile Metadata & Attributes\n",
    "\n",
    "When you import the `SJER_plot_centroids` shapefile layer into `Python` the `gpd.read_file()` function automatically stores information about the data as attributes. You are particularly interested in the geospatial **metadata**, describing the format, `CRS`, `extent`, and other components of the vector data, and the **attributes** which describe properties associated with each individual vector object.\n",
    "\n",
    "\n",
    "## Spatial Metadata\n",
    "\n",
    "Key metadata for all shapefiles include:\n",
    "\n",
    "1. **Object Type:** the class of the imported object.\n",
    "2. **Coordinate Reference System (CRS):** the projection of the data.\n",
    "3. **Extent:** the spatial extent (geographic area that the shapefile covers) of the shapefile. Note that the spatial extent for a shapefile represents the extent for ALL spatial objects in the shapefile.\n",
    "\n",
    "You can view shapefile metadata using the `class()`, `.crs` and `.total_bounds` methods:\n"
   ]
  },
  {
   "cell_type": "code",
   "execution_count": 29,
   "metadata": {},
   "outputs": [
    {
     "data": {
      "text/plain": [
       "geopandas.geodataframe.GeoDataFrame"
      ]
     },
     "execution_count": 29,
     "metadata": {},
     "output_type": "execute_result"
    }
   ],
   "source": [
    "type(sjer_plot_locations)"
   ]
  },
  {
   "cell_type": "code",
   "execution_count": 30,
   "metadata": {},
   "outputs": [
    {
     "data": {
      "text/plain": [
       "array([ 254738.618, 4107527.074,  258497.102, 4112167.778])"
      ]
     },
     "execution_count": 30,
     "metadata": {},
     "output_type": "execute_result"
    }
   ],
   "source": [
    "# view the spatial extent\n",
    "sjer_plot_locations.total_bounds"
   ]
  },
  {
   "cell_type": "markdown",
   "metadata": {},
   "source": [
    "<figure>\n",
    "    <a href=\"{{ site.baseurl }}/images/courses/earth-analytics/spatial-data/spatial-extent.png\">\n",
    "    <img src=\"{{ site.baseurl }}/images/courses/earth-analytics/spatial-data/spatial-extent.png\" alt=\"the spatial extent represents the spatial area that a particular dataset covers.\"></a>\n",
    "    <figcaption>The spatial extent of a shapefile or geopandas GeoDataFrame represents\n",
    "    the geographic \"edge\" or location that is the furthest north, south east and\n",
    "    west. Thus is represents the overall geographic coverage of the spatial object.\n",
    "    Image Source: National Ecological Observatory Network (NEON)\n",
    "    </figcaption>\n",
    "</figure>"
   ]
  },
  {
   "cell_type": "code",
   "execution_count": 31,
   "metadata": {},
   "outputs": [
    {
     "data": {
      "text/plain": [
       "{'init': 'epsg:32611'}"
      ]
     },
     "execution_count": 31,
     "metadata": {},
     "output_type": "execute_result"
    }
   ],
   "source": [
    "sjer_plot_locations.crs"
   ]
  },
  {
   "cell_type": "markdown",
   "metadata": {},
   "source": [
    "The CRS for our data is epsg code: `32611`. You will learn about CRS formats and structures in a later lesson but for now a quick google search reveals that this CRS is: <a href=\"http://spatialreference.org/ref/epsg/wgs-84-utm-zone-11n/\" target=\"_blank\">UTM zone 11 North - WGS84</a>.\n"
   ]
  },
  {
   "cell_type": "code",
   "execution_count": 32,
   "metadata": {},
   "outputs": [
    {
     "data": {
      "text/plain": [
       "0     Point\n",
       "1     Point\n",
       "2     Point\n",
       "3     Point\n",
       "4     Point\n",
       "5     Point\n",
       "6     Point\n",
       "7     Point\n",
       "8     Point\n",
       "9     Point\n",
       "10    Point\n",
       "11    Point\n",
       "12    Point\n",
       "13    Point\n",
       "14    Point\n",
       "15    Point\n",
       "16    Point\n",
       "17    Point\n",
       "dtype: object"
      ]
     },
     "execution_count": 32,
     "metadata": {},
     "output_type": "execute_result"
    }
   ],
   "source": [
    "sjer_plot_locations.geom_type"
   ]
  },
  {
   "cell_type": "markdown",
   "metadata": {},
   "source": [
    "## How Many Features Are in Your Shapefile? \n",
    "\n",
    "You can view the number of features (counted by the number of rows in the attribute table) and feature attributes (number of columns) in our data using the pandas `.shape` method. Note that the data are returned as a vector of two values:\n",
    "\n",
    "(rows, columns) \n",
    "\n",
    "Also note that the number of columns includes a column where the geometry (the x, y coordinate locations) are stored. "
   ]
  },
  {
   "cell_type": "code",
   "execution_count": 33,
   "metadata": {},
   "outputs": [
    {
     "data": {
      "text/plain": [
       "(18, 6)"
      ]
     },
     "execution_count": 33,
     "metadata": {},
     "output_type": "execute_result"
    }
   ],
   "source": [
    "sjer_plot_locations.shape"
   ]
  },
  {
   "cell_type": "code",
   "execution_count": 34,
   "metadata": {
    "tags": [
     "hide"
    ]
   },
   "outputs": [],
   "source": [
    "# nice additional resource to add?\n",
    "#https://geohackweek.github.io/vector/04-geopandas-intro/"
   ]
  },
  {
   "cell_type": "markdown",
   "metadata": {},
   "source": [
    "# Plot a Shapefile\n",
    "\n",
    "Next, you can visualize the data in your `Python` `geodata.frame` object using the `.plot()` method. Notice that you can create a plot using the geopandas base plotting using the syntax:\n",
    "\n",
    "`dataframe_name.plot()`\n",
    "\n",
    "The plot is made larger but adding a figsize = () argument. "
   ]
  },
  {
   "cell_type": "code",
   "execution_count": 35,
   "metadata": {},
   "outputs": [
    {
     "data": {
      "image/png": "[encoded data removed]",
      "text/plain": [
       "<Figure size 720x720 with 1 Axes>"
      ]
     },
     "metadata": {},
     "output_type": "display_data"
    }
   ],
   "source": [
    "# plot the data using geopandas .plot() method\n",
    "fig, ax = plt.subplots(figsize = (10,10))\n",
    "sjer_plot_locations.plot(ax=ax);"
   ]
  },
  {
   "cell_type": "markdown",
   "metadata": {},
   "source": [
    "You can plot the data by feature attribute and add a legend too. Below you add the following plot arguments to your geopandas plot:\n",
    "\n",
    "* **column:** the attribute column that you want to plot your data using\n",
    "* **categorical=True:** set the plot to plot categorical data - in this case plot types. \n",
    "* **legend:** add a legend\n",
    "* **markersize:** increase or decrease the size of the points or markers rendered on the plot\n",
    "* **cmap:** set the colors used to plot the data\n",
    "\n",
    "and fig size if you want to specify the size of the output plot. "
   ]
  },
  {
   "cell_type": "code",
   "execution_count": 36,
   "metadata": {},
   "outputs": [
    {
     "data": {
      "image/png": "[encoded data removed]",
      "text/plain": [
       "<Figure size 720x720 with 1 Axes>"
      ]
     },
     "metadata": {},
     "output_type": "display_data"
    }
   ],
   "source": [
    "fig, ax = plt.subplots(figsize = (10,10))\n",
    "\n",
    "# quickly plot the data adding a legend\n",
    "sjer_plot_locations.plot(column='plot_type', \n",
    "                         categorical=True, \n",
    "                         legend=True, \n",
    "                         figsize=(10,6),\n",
    "                         markersize=45, \n",
    "                         cmap=\"Set2\", ax=ax);"
   ]
  },
  {
   "cell_type": "markdown",
   "metadata": {},
   "source": [
    "You can add a title to the plot too. Below you assign the plot element to a variable called ax.\n",
    "You then add a title to the plot using `ax.set_title()`."
   ]
  },
  {
   "cell_type": "code",
   "execution_count": 37,
   "metadata": {},
   "outputs": [
    {
     "data": {
      "image/png": "[encoded data removed]",
      "text/plain": [
       "<Figure size 720x720 with 1 Axes>"
      ]
     },
     "metadata": {},
     "output_type": "display_data"
    }
   ],
   "source": [
    "# Plot the data adjusting marker size and colors\n",
    "# # 'col' sets point symbol color\n",
    "# quickly plot the data adding a legend\n",
    "ax = sjer_plot_locations.plot(column='plot_type', \n",
    "                         categorical=True, \n",
    "                         legend=True, \n",
    "                         figsize=(10,10),\n",
    "                         markersize=45, \n",
    "                         cmap=\"Set2\")\n",
    "# add a title to the plot\n",
    "ax.set_title('SJER Plot Locations\\nMadera County, CA', fontsize=16);"
   ]
  },
  {
   "cell_type": "markdown",
   "metadata": {},
   "source": [
    "### Change Plot Colors & Symbols\n",
    "\n",
    "You can use the cmap argument to adjust the colors of our plot. Below you used a colormap that is a part of the <a href=\"http://matplotlib.org/users/colormaps.html\" target=\"_blank\">matplotlib colormap library.</a>\n",
    "\n",
    "Finally you use the **marker=** argument to specify the marker style."
   ]
  },
  {
   "cell_type": "code",
   "execution_count": 38,
   "metadata": {},
   "outputs": [
    {
     "data": {
      "image/png": "[encoded data removed]",
      "text/plain": [
       "<Figure size 720x720 with 1 Axes>"
      ]
     },
     "metadata": {},
     "output_type": "display_data"
    }
   ],
   "source": [
    "fig, ax = plt.subplots(figsize = (10,10))\n",
    "\n",
    "sjer_plot_locations.plot(column='plot_type',\n",
    "                              categorical=True,\n",
    "                              legend=True,\n",
    "                              marker='*', \n",
    "                              markersize=65, \n",
    "                              cmap='OrRd', ax=ax)\n",
    "# add a title to the plot\n",
    "ax.set_title('SJER Plot Locations\\nMadera County, CA',\n",
    "            fontsize=16);"
   ]
  },
  {
   "cell_type": "code",
   "execution_count": 39,
   "metadata": {},
   "outputs": [
    {
     "data": {
      "image/png": "[encoded data removed]",
      "text/plain": [
       "<Figure size 720x720 with 1 Axes>"
      ]
     },
     "metadata": {},
     "output_type": "display_data"
    }
   ],
   "source": [
    "ax = sjer_plot_locations.plot(figsize=(10, 10), \n",
    "                              column='plot_type',\n",
    "                              categorical=True,\n",
    "                              marker='*', \n",
    "                              markersize=65, \n",
    "                              cmap='OrRd')\n",
    "# add a title to the plot\n",
    "ax.set_title('SJER Plot Locations\\nMadera County, CA',\n",
    "            fontsize = 16);"
   ]
  },
  {
   "cell_type": "markdown",
   "metadata": {},
   "source": [
    "## Plot Shapefiles Using matplotlib and geopandas\n",
    "\n",
    "Above you saw how to quickly plot shapefiles using geopandas plotting. The geopandas plotting is a great option for quickly exploring your data. However it is less customizable than `matplotlib` plotting. Below you will learn how to  create the same map using `matplotlib` to setup the axes. \n",
    "\n",
    "To plot with `matplotlib` you first setup the axes. Below you define the figuresize and marker size in the ax argument. \n",
    "You can adjust the symbol size of our plot using the `markersize` argument.\n",
    "You can add a title using `ax.set_title()`.\n",
    "\n",
    "You can create a larger map by adjusting the `figsize` argument. Below you set it to 10 x 10. "
   ]
  },
  {
   "cell_type": "markdown",
   "metadata": {},
   "source": [
    "<div class=\"notice--warning\" markdown=\"1\">\n",
    "\n",
    "\n",
    "## <i class=\"fa fa-pencil-square-o\" aria-hidden=\"true\"></i> Test your knowledge: Import Line & Polygon Shapefiles\n",
    "\n",
    "Using the steps above, import the `data/week5/california/madera-county-roads/tl_2013_06039_roads`\n",
    "and `data/week5/california/SJER/vector_data/SJER_crop.shp` shapefiles into `Python`. Call the roads object `sjer_roads` and the crop layer `sjer_crop_extent`.\n",
    "\n",
    "Answer the following questions:\n",
    "\n",
    "1. What type of `Python` spatial object is created when you import each layer?\n",
    "2. What is the `CRS` and `extent` for each object?\n",
    "3. Do the files contain, points, lines or polygons?\n",
    "4. How many spatial objects are in each file?\n",
    "\n",
    "</div>\n"
   ]
  },
  {
   "cell_type": "code",
   "execution_count": 40,
   "metadata": {
    "tags": [
     "hide"
    ]
   },
   "outputs": [],
   "source": [
    "## answers\n",
    "# this should be hidden\n",
    "# sjer_crop_extent.crs\n",
    "## {'init': 'epsg:32611'}\n",
    "\n",
    "## NOTE that this is the answer to the challenge and thus needs to be hidden. \n",
    "\n",
    "# 1. type(sjer_roads) - geopandas.geodataframe.GeoDataFrame\n",
    "# 2. SJER_roads: 4269, crop_extent 32611\n",
    "# 3. sjer_roads contains only lines and sjer_plot_locations contains points\n",
    "\n",
    "# 4 -> numerous ways to find this; sjer_roads=13,\n",
    "# length(sjer_roads)  #easiest, but not previously taught\n",
    "# sjer_roads  #look at 'features'\n",
    "# attributes(sjer_roads)  #found in the $data section as above\n",
    "\n",
    "\n",
    "# sjer_roads = gpd.read_file(op.join(path_data, 'california', 'madera-county-roads', 'tl_2013_06039_roads.shp'))\n",
    "#sjer_roads = gpd.read_file(\"data/week5/california/madera-county-roads/tl_2013_06039_roads.shp\")\n",
    "#sjer_crop_extent = gpd.read_file(op.join(path_data, 'california', 'SJER', 'vector_data', 'SJER_crop.shp'))\n",
    "#sjer_crop_extent = gpd.read_file(\"data/week5/california/SJER/vector_data/SJER_crop.shp\")\n",
    "\n",
    "## the answers...\n",
    "\n",
    "#sjer_roads.crs\n",
    "#sjer_roads.total_bounds\n",
    "#sjer_roads.geom_type\n",
    "#sjer_crop_extent.crs\n",
    "#sjer_crop_extent.total_bounds\n",
    "#sjer_crop_extent.geom_type"
   ]
  },
  {
   "cell_type": "markdown",
   "metadata": {},
   "source": [
    "## Plot Multiple Shapefiles\n",
    "You can plot several layers on top of each other using the geopandas `.plot` method too. To do this, you:\n",
    "\n",
    "1. define the `ax` variable just as you did above to add a title to our plot. \n",
    "2. then you add as many layers to the plot as you want using geopandas `.plot()` method.\n",
    "\n",
    "Notice below \n",
    "\n",
    "`ax.set_axis_off()` is used to turn off the x and y axis and \n",
    "\n",
    "`plt.axis('equal')` is used to ensure the x and y axis are uniformly spaced. \n"
   ]
  },
  {
   "cell_type": "code",
   "execution_count": 41,
   "metadata": {},
   "outputs": [],
   "source": [
    "# import crop boundary\n",
    "sjer_crop_extent = gpd.read_file(\"data/spatial-vector-lidar/california/neon-sjer-site/vector_data/SJER_crop.shp\")"
   ]
  },
  {
   "cell_type": "code",
   "execution_count": 42,
   "metadata": {},
   "outputs": [
    {
     "data": {
      "image/png": "[encoded data removed]",
      "text/plain": [
       "<Figure size 720x720 with 1 Axes>"
      ]
     },
     "metadata": {},
     "output_type": "display_data"
    }
   ],
   "source": [
    "fig, ax = plt.subplots(figsize = (10, 10))\n",
    "\n",
    "# first setup the plot using the crop_extent layer as the base layer \n",
    "sjer_crop_extent.plot(color='lightgrey',\n",
    "                      edgecolor = 'black',\n",
    "                      ax = ax,\n",
    "                      alpha=.5)\n",
    "# then add another layer using geopandas syntax .plot, and calling the ax variable as the axis argument\n",
    "sjer_plot_locations.plot(ax=ax, \n",
    "                         column='plot_type',\n",
    "                         categorical=True,\n",
    "                         marker='*',\n",
    "                         legend=True,\n",
    "                         markersize=50, \n",
    "                         cmap='Set2')\n",
    "# add a title to the plot\n",
    "ax.set_title('SJER Plot Locations\\nMadera County, CA')\n",
    "ax.set_axis_off()\n",
    "plt.axis('equal');"
   ]
  },
  {
   "cell_type": "markdown",
   "metadata": {},
   "source": [
    "## Custom Legends with Geopandas -- optional\n",
    "\n",
    "While you will likely not get to this in our workshop, below is an example of further customizing your geopandas plot.\n",
    "\n",
    "Currently there is not a perfect way to create a custom legend in Geopandas although that functionality is being considered. An alternative is to plot your data using loops and a dictionary that provides the various attributes that you want to apply to each point type. "
   ]
  },
  {
   "cell_type": "code",
   "execution_count": 48,
   "metadata": {},
   "outputs": [
    {
     "data": {
      "image/png": "[encoded data removed]",
      "text/plain": [
       "<Figure size 864x576 with 1 Axes>"
      ]
     },
     "metadata": {},
     "output_type": "display_data"
    }
   ],
   "source": [
    "# make it a bit nicer using a dictionary to assign colors and line widths\n",
    "plot_attrs = {'grass': ['blue', '*'], \n",
    "               'soil': ['brown','o'],\n",
    "               'trees': ['green','*']}\n",
    "\n",
    "# plot the data\n",
    "fig, ax = plt.subplots(figsize  = (12, 8))\n",
    "\n",
    "# first setup the plot using the crop_extent layer as the base layer \n",
    "sjer_crop_extent.plot(color='lightgrey',\n",
    "                      edgecolor = 'black',\n",
    "                      ax = ax,\n",
    "                      alpha=.5)\n",
    "\n",
    "for ctype, data in sjer_plot_locations.groupby('plot_type'):\n",
    "    data.plot(color=plot_attrs[ctype][0], \n",
    "              label = ctype,\n",
    "              ax = ax, \n",
    "             marker = plot_attrs[ctype][1],  \n",
    ")\n",
    "\n",
    "ax.legend(title=\"Custom Legend\")\n",
    "ax.set_title(\"United States Roads by Type\", fontsize=20)\n",
    "ax.set_axis_off()\n",
    "plt.axis('equal');"
   ]
  }
 ],
 "metadata": {
  "anaconda-cloud": {},
  "celltoolbar": "Tags",
  "kernelspec": {
   "display_name": "Python [conda env:earth-analytics-python]",
   "language": "python",
   "name": "conda-env-earth-analytics-python-py"
  },
  "language_info": {
   "codemirror_mode": {
    "name": "ipython",
    "version": 3
   },
   "file_extension": ".py",
   "mimetype": "text/x-python",
   "name": "python",
   "nbconvert_exporter": "python",
   "pygments_lexer": "ipython3",
   "version": "3.6.4"
  },
  "toc": {
   "toc_cell": false,
   "toc_number_sections": false,
   "toc_threshold": "2",
   "toc_window_display": false
  }
 },
 "nbformat": 4,
 "nbformat_minor": 2
}
